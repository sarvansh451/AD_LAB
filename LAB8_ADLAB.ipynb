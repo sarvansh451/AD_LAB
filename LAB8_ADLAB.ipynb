{
 "cells": [
  {
   "cell_type": "code",
   "execution_count": 3,
   "id": "12a37544-a805-4d59-bef2-c5594e8d20c9",
   "metadata": {},
   "outputs": [],
   "source": [
    "import pandas as pd\n",
    "from sklearn.model_selection import train_test_split\n",
    "from sklearn.preprocessing import StandardScaler\n",
    "from sklearn.svm import SVR\n",
    "from sklearn.linear_model import LinearRegression\n",
    "from sklearn.neighbors import KNeighborsRegressor\n",
    "from sklearn.ensemble import RandomForestRegressor, GradientBoostingRegressor\n",
    "from sklearn.tree import DecisionTreeRegressor\n",
    "from sklearn.naive_bayes import GaussianNB\n",
    "from sklearn.metrics import accuracy_score, mean_squared_error"
   ]
  },
  {
   "cell_type": "code",
   "execution_count": 4,
   "id": "5f42429a-c91e-4b89-bffb-2a0eef335195",
   "metadata": {},
   "outputs": [],
   "source": [
    "# Load the datasets\n",
    "red_wine = pd.read_csv(\"C:/Users/KIIT/Documents/jupyter notebook/winequality-red.csv\", sep=';')\n",
    "white_wine = pd.read_csv(\"C:/Users/KIIT/Documents/jupyter notebook/winequality-white.csv\", sep=';')\n",
    "\n",
    "# Combine datasets and add labels\n",
    "red_wine[\"wine_type\"] = \"red\"\n",
    "white_wine[\"wine_type\"] = \"white\"\n",
    "wine_data = pd.concat([red_wine, white_wine])\n",
    "\n",
    "# Separate features and target\n",
    "X = wine_data.drop([\"quality\", \"wine_type\"], axis=1)\n",
    "y = wine_data[\"quality\"]\n",
    "\n",
    "# Split into training and test sets\n",
    "X_train, X_test, y_train, y_test = train_test_split(X, y, test_size=0.2, random_state=42)\n",
    "\n",
    "# Standardize the features\n",
    "scaler = StandardScaler()\n",
    "X_train = scaler.fit_transform(X_train)\n",
    "X_test = scaler.transform(X_test)"
   ]
  },
  {
   "cell_type": "code",
   "execution_count": 5,
   "id": "19358c06-8d73-4017-8c76-2ed9441c32b0",
   "metadata": {},
   "outputs": [],
   "source": [
    "# Helper function to discretize wine quality scores\n",
    "def discretize_quality(y):\n",
    "    return (y > 5).astype(int)  # High quality (1) if >5, else Low quality (0)\n",
    "\n",
    "# Discretize the true target values\n",
    "y_train_class = discretize_quality(y_train)\n",
    "y_test_class = discretize_quality(y_test)"
   ]
  },
  {
   "cell_type": "code",
   "execution_count": 6,
   "id": "4e1dcbb2-4573-47d6-8082-4a0cf531a5b6",
   "metadata": {},
   "outputs": [
    {
     "name": "stdout",
     "output_type": "stream",
     "text": [
      "SVR Accuracy: 0.71\n"
     ]
    }
   ],
   "source": [
    "# Model training and accuracy calculation\n",
    "results = {}\n",
    "\n",
    "# Support Vector Regression (SVR)\n",
    "svr = SVR()\n",
    "svr.fit(X_train, y_train)\n",
    "y_pred_svr = svr.predict(X_test)\n",
    "svr_acc = accuracy_score(y_test_class, discretize_quality(y_pred_svr))\n",
    "results[\"SVR\"] = svr_acc\n",
    "print(f\"SVR Accuracy: {svr_acc:.2f}\")\n"
   ]
  },
  {
   "cell_type": "code",
   "execution_count": 7,
   "id": "434d0312-5b63-4d82-8858-35b4078d92f7",
   "metadata": {},
   "outputs": [
    {
     "name": "stdout",
     "output_type": "stream",
     "text": [
      "Linear Regression Accuracy: 0.68\n"
     ]
    }
   ],
   "source": [
    "# Linear Regression (LR)\n",
    "lr = LinearRegression()\n",
    "lr.fit(X_train, y_train)\n",
    "y_pred_lr = lr.predict(X_test)\n",
    "lr_acc = accuracy_score(y_test_class, discretize_quality(y_pred_lr))\n",
    "results[\"LR\"] = lr_acc\n",
    "print(f\"Linear Regression Accuracy: {lr_acc:.2f}\")\n"
   ]
  },
  {
   "cell_type": "code",
   "execution_count": 8,
   "id": "d2d06e98-6fd8-4863-b530-a8d2919de45b",
   "metadata": {},
   "outputs": [
    {
     "name": "stdout",
     "output_type": "stream",
     "text": [
      "KNN Accuracy: 0.72\n"
     ]
    }
   ],
   "source": [
    "# K-Nearest Neighbors (KNN)\n",
    "knn = KNeighborsRegressor()\n",
    "knn.fit(X_train, y_train)\n",
    "y_pred_knn = knn.predict(X_test)\n",
    "knn_acc = accuracy_score(y_test_class, discretize_quality(y_pred_knn))\n",
    "results[\"KNN\"] = knn_acc\n",
    "print(f\"KNN Accuracy: {knn_acc:.2f}\")"
   ]
  },
  {
   "cell_type": "code",
   "execution_count": 9,
   "id": "14012945-f74c-4cad-bc72-5785f07f3641",
   "metadata": {},
   "outputs": [
    {
     "name": "stdout",
     "output_type": "stream",
     "text": [
      "Random Forest Accuracy: 0.68\n"
     ]
    }
   ],
   "source": [
    "# Random Forest (RF)\n",
    "rf = RandomForestRegressor(random_state=42)\n",
    "rf.fit(X_train, y_train)\n",
    "y_pred_rf = rf.predict(X_test)\n",
    "rf_acc = accuracy_score(y_test_class, discretize_quality(y_pred_rf))\n",
    "results[\"RF\"] = rf_acc\n",
    "print(f\"Random Forest Accuracy: {rf_acc:.2f}\")"
   ]
  },
  {
   "cell_type": "code",
   "execution_count": 10,
   "id": "df24ca31-c550-47fc-9400-7de7ef9657af",
   "metadata": {},
   "outputs": [
    {
     "name": "stdout",
     "output_type": "stream",
     "text": [
      "Decision Tree Accuracy: 0.77\n"
     ]
    }
   ],
   "source": [
    "# Decision Tree (DT)\n",
    "dt = DecisionTreeRegressor(random_state=42)\n",
    "dt.fit(X_train, y_train)\n",
    "y_pred_dt = dt.predict(X_test)\n",
    "dt_acc = accuracy_score(y_test_class, discretize_quality(y_pred_dt))\n",
    "results[\"DT\"] = dt_acc\n",
    "print(f\"Decision Tree Accuracy: {dt_acc:.2f}\")"
   ]
  },
  {
   "cell_type": "code",
   "execution_count": 11,
   "id": "418d068d-5bf7-4e85-8568-43077e660031",
   "metadata": {},
   "outputs": [
    {
     "name": "stdout",
     "output_type": "stream",
     "text": [
      "Naive Bayes Accuracy: 0.69\n"
     ]
    }
   ],
   "source": [
    "# Naive Bayes (NB)\n",
    "nb = GaussianNB()\n",
    "nb.fit(X_train, y_train_class)\n",
    "y_pred_nb = nb.predict(X_test)\n",
    "nb_acc = accuracy_score(y_test_class, y_pred_nb)\n",
    "results[\"NB\"] = nb_acc\n",
    "print(f\"Naive Bayes Accuracy: {nb_acc:.2f}\")"
   ]
  },
  {
   "cell_type": "code",
   "execution_count": 12,
   "id": "efd7788f-c82b-4aff-a11a-f86d56540a2c",
   "metadata": {},
   "outputs": [
    {
     "name": "stdout",
     "output_type": "stream",
     "text": [
      "Gradient Boosting Accuracy: 0.67\n"
     ]
    }
   ],
   "source": [
    "gb = GradientBoostingRegressor(random_state=42)\n",
    "gb.fit(X_train, y_train)\n",
    "y_pred_gb = gb.predict(X_test)\n",
    "gb_acc = accuracy_score(y_test_class, discretize_quality(y_pred_gb))\n",
    "results[\"GB\"] = gb_acc\n",
    "print(f\"Gradient Boosting Accuracy: {gb_acc:.2f}\")\n"
   ]
  },
  {
   "cell_type": "code",
   "execution_count": 13,
   "id": "df1d2b0c-269c-4309-ad42-a7b7b8817bff",
   "metadata": {},
   "outputs": [
    {
     "name": "stdout",
     "output_type": "stream",
     "text": [
      "\n",
      "Final Accuracy Results:\n",
      "SVR: 0.71\n",
      "LR: 0.68\n",
      "KNN: 0.72\n",
      "RF: 0.68\n",
      "DT: 0.77\n",
      "NB: 0.69\n",
      "GB: 0.67\n"
     ]
    }
   ],
   "source": [
    "# Display final accuracy results\n",
    "print(\"\\nFinal Accuracy Results:\")\n",
    "for model, acc in results.items():\n",
    "    print(f\"{model}: {acc:.2f}\")"
   ]
  },
  {
   "cell_type": "code",
   "execution_count": 15,
   "id": "0b5a5a66-e8e5-440b-948b-77cd58bf1ea2",
   "metadata": {},
   "outputs": [
    {
     "name": "stdout",
     "output_type": "stream",
     "text": [
      "Support Vector Regression (SVR) Results:\n",
      "MSE: 0.4547\n",
      "MAE: 0.5045\n",
      "R^2 Score: 0.3844\n",
      "\n",
      "Cross-validation (5-fold) R^2 Score: 0.2661\n",
      "Cross-validation (10-fold) R^2 Score: 0.2678\n",
      "Cross-validation (15-fold) R^2 Score: 0.2695\n",
      "Cross-validation (20-fold) R^2 Score: 0.2698\n",
      "--------------------------------------------------\n",
      "Linear Regression Results:\n",
      "MSE: 0.5467\n",
      "MAE: 0.5659\n",
      "R^2 Score: 0.2598\n",
      "\n",
      "Cross-validation (5-fold) R^2 Score: 0.2882\n",
      "Cross-validation (10-fold) R^2 Score: 0.2894\n",
      "Cross-validation (15-fold) R^2 Score: 0.2894\n",
      "Cross-validation (20-fold) R^2 Score: 0.2885\n",
      "--------------------------------------------------\n",
      "K-Nearest Neighbors (KNN) Results:\n",
      "MSE: 0.4925\n",
      "MAE: 0.5300\n",
      "R^2 Score: 0.3331\n",
      "\n",
      "Cross-validation (5-fold) R^2 Score: 0.1578\n",
      "Cross-validation (10-fold) R^2 Score: 0.1608\n",
      "Cross-validation (15-fold) R^2 Score: 0.1712\n",
      "Cross-validation (20-fold) R^2 Score: 0.1717\n",
      "--------------------------------------------------\n",
      "Random Forest Regressor Results:\n",
      "MSE: 0.4199\n",
      "MAE: 0.4951\n",
      "R^2 Score: 0.4314\n",
      "\n",
      "Cross-validation (5-fold) R^2 Score: 0.4518\n",
      "Cross-validation (10-fold) R^2 Score: 0.4577\n",
      "Cross-validation (15-fold) R^2 Score: 0.4653\n",
      "Cross-validation (20-fold) R^2 Score: 0.4626\n",
      "--------------------------------------------------\n",
      "Decision Tree Regressor Results:\n",
      "MSE: 0.5781\n",
      "MAE: 0.5758\n",
      "R^2 Score: 0.2172\n",
      "\n",
      "Cross-validation (5-fold) R^2 Score: 0.2569\n",
      "Cross-validation (10-fold) R^2 Score: 0.2832\n",
      "Cross-validation (15-fold) R^2 Score: 0.2998\n",
      "Cross-validation (20-fold) R^2 Score: 0.2718\n",
      "--------------------------------------------------\n",
      "Gradient Boosting Regressor Results:\n",
      "MSE: 0.3841\n",
      "MAE: 0.4428\n",
      "R^2 Score: 0.4799\n",
      "\n",
      "Cross-validation (5-fold) R^2 Score: 0.4973\n",
      "Cross-validation (10-fold) R^2 Score: 0.5187\n",
      "Cross-validation (15-fold) R^2 Score: 0.5302\n",
      "Cross-validation (20-fold) R^2 Score: 0.5307\n",
      "--------------------------------------------------\n"
     ]
    }
   ],
   "source": [
    "import pandas as pd\n",
    "import numpy as np\n",
    "from sklearn.model_selection import train_test_split, cross_val_score\n",
    "from sklearn.preprocessing import StandardScaler\n",
    "from sklearn.svm import SVR\n",
    "from sklearn.linear_model import LinearRegression\n",
    "from sklearn.neighbors import KNeighborsRegressor\n",
    "from sklearn.ensemble import RandomForestRegressor, GradientBoostingRegressor\n",
    "from sklearn.tree import DecisionTreeRegressor\n",
    "from sklearn.naive_bayes import GaussianNB\n",
    "from sklearn.metrics import mean_squared_error, mean_absolute_error, r2_score\n",
    "\n",
    "# Load wine datasets\n",
    "red_wine = pd.read_csv('C:/Users/KIIT/Documents/jupyter notebook/winequality-red.csv', sep=';')\n",
    "white_wine = pd.read_csv('C:/Users/KIIT/Documents/jupyter notebook/winequality-white.csv', sep=';')\n",
    "\n",
    "# Combine datasets\n",
    "wine_data = pd.concat([red_wine, white_wine])\n",
    "X = wine_data.drop(\"quality\", axis=1)\n",
    "y = wine_data[\"quality\"]  # Target variable as continuous for regression\n",
    "\n",
    "# Split data into train and test\n",
    "X_train, X_test, y_train, y_test = train_test_split(X, y, test_size=0.2, random_state=42)\n",
    "\n",
    "# Standardize features\n",
    "scaler = StandardScaler()\n",
    "X_train = scaler.fit_transform(X_train)\n",
    "X_test = scaler.transform(X_test)\n",
    "\n",
    "# Function to evaluate models\n",
    "from sklearn.model_selection import KFold\n",
    "\n",
    "\n",
    "def evaluate_model(model, model_name):\n",
    "    model.fit(X_train, y_train)\n",
    "    y_pred = model.predict(X_test)\n",
    "\n",
    "    mse = mean_squared_error(y_test, y_pred)\n",
    "    mae = mean_absolute_error(y_test, y_pred)\n",
    "    r2 = r2_score(y_test, y_pred)\n",
    "\n",
    "    print(f\"{model_name} Results:\")\n",
    "    print(f\"MSE: {mse:.4f}\")\n",
    "    print(f\"MAE: {mae:.4f}\")\n",
    "    print(f\"R^2 Score: {r2:.4f}\\n\")\n",
    "\n",
    "    # Cross-validation for different folds\n",
    "    for folds in [5, 10, 15, 20]:\n",
    "        kfold = KFold(n_splits=folds, shuffle=True, random_state=42)\n",
    "        scores = cross_val_score(model, X, y, scoring='r2', cv=kfold)\n",
    "        print(f\"Cross-validation ({folds}-fold) R^2 Score: {np.mean(scores):.4f}\")\n",
    "    print(\"-\" * 50)\n",
    "\n",
    "# Instantiate models\n",
    "models = {\n",
    "    \"Support Vector Regression (SVR)\": SVR(C=10, kernel='rbf'),\n",
    "    \"Linear Regression\": LinearRegression(),\n",
    "    \"K-Nearest Neighbors (KNN)\": KNeighborsRegressor(n_neighbors=5),\n",
    "    \"Random Forest Regressor\": RandomForestRegressor(n_estimators=200, max_depth=10, random_state=42),\n",
    "    \"Decision Tree Regressor\": DecisionTreeRegressor(max_depth=8, random_state=42),\n",
    "    \"Gradient Boosting Regressor\": GradientBoostingRegressor(n_estimators=150, learning_rate=0.1, max_depth=8, random_state=42)\n",
    "}\n",
    "\n",
    "# Evaluate all models\n",
    "for model_name, model in models.items():\n",
    "    evaluate_model(model, model_name)\n"
   ]
  },
  {
   "cell_type": "code",
   "execution_count": null,
   "id": "060a0968-284f-4edf-b164-aa9873973909",
   "metadata": {},
   "outputs": [],
   "source": []
  }
 ],
 "metadata": {
  "kernelspec": {
   "display_name": "Python 3 (ipykernel)",
   "language": "python",
   "name": "python3"
  },
  "language_info": {
   "codemirror_mode": {
    "name": "ipython",
    "version": 3
   },
   "file_extension": ".py",
   "mimetype": "text/x-python",
   "name": "python",
   "nbconvert_exporter": "python",
   "pygments_lexer": "ipython3",
   "version": "3.12.5"
  }
 },
 "nbformat": 4,
 "nbformat_minor": 5
}
