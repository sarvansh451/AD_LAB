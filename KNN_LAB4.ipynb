{
 "cells": [
  {
   "cell_type": "markdown",
   "id": "c0d53040-db8e-45e2-b989-6af272a899b6",
   "metadata": {},
   "source": [
    "# KNN"
   ]
  },
  {
   "cell_type": "code",
   "execution_count": 178,
   "id": "4ea65947-9f60-41ae-bda4-f316691cd231",
   "metadata": {},
   "outputs": [],
   "source": [
    "import pandas as pd\n",
    "from sklearn.datasets import load_digits\n",
    "digits = load_digits()"
   ]
  },
  {
   "cell_type": "code",
   "execution_count": 179,
   "id": "77a5b0f1-b7b9-4ae4-b8b1-3e427a0c0394",
   "metadata": {},
   "outputs": [
    {
     "data": {
      "text/html": [
       "<div>\n",
       "<style scoped>\n",
       "    .dataframe tbody tr th:only-of-type {\n",
       "        vertical-align: middle;\n",
       "    }\n",
       "\n",
       "    .dataframe tbody tr th {\n",
       "        vertical-align: top;\n",
       "    }\n",
       "\n",
       "    .dataframe thead th {\n",
       "        text-align: right;\n",
       "    }\n",
       "</style>\n",
       "<table border=\"1\" class=\"dataframe\">\n",
       "  <thead>\n",
       "    <tr style=\"text-align: right;\">\n",
       "      <th></th>\n",
       "      <th>pixel_0_0</th>\n",
       "      <th>pixel_0_1</th>\n",
       "      <th>pixel_0_2</th>\n",
       "      <th>pixel_0_3</th>\n",
       "      <th>pixel_0_4</th>\n",
       "      <th>pixel_0_5</th>\n",
       "      <th>pixel_0_6</th>\n",
       "      <th>pixel_0_7</th>\n",
       "      <th>pixel_1_0</th>\n",
       "      <th>pixel_1_1</th>\n",
       "      <th>...</th>\n",
       "      <th>pixel_6_7</th>\n",
       "      <th>pixel_7_0</th>\n",
       "      <th>pixel_7_1</th>\n",
       "      <th>pixel_7_2</th>\n",
       "      <th>pixel_7_3</th>\n",
       "      <th>pixel_7_4</th>\n",
       "      <th>pixel_7_5</th>\n",
       "      <th>pixel_7_6</th>\n",
       "      <th>pixel_7_7</th>\n",
       "      <th>target</th>\n",
       "    </tr>\n",
       "  </thead>\n",
       "  <tbody>\n",
       "    <tr>\n",
       "      <th>0</th>\n",
       "      <td>0.0</td>\n",
       "      <td>0.0</td>\n",
       "      <td>5.0</td>\n",
       "      <td>13.0</td>\n",
       "      <td>9.0</td>\n",
       "      <td>1.0</td>\n",
       "      <td>0.0</td>\n",
       "      <td>0.0</td>\n",
       "      <td>0.0</td>\n",
       "      <td>0.0</td>\n",
       "      <td>...</td>\n",
       "      <td>0.0</td>\n",
       "      <td>0.0</td>\n",
       "      <td>0.0</td>\n",
       "      <td>6.0</td>\n",
       "      <td>13.0</td>\n",
       "      <td>10.0</td>\n",
       "      <td>0.0</td>\n",
       "      <td>0.0</td>\n",
       "      <td>0.0</td>\n",
       "      <td>0</td>\n",
       "    </tr>\n",
       "    <tr>\n",
       "      <th>1</th>\n",
       "      <td>0.0</td>\n",
       "      <td>0.0</td>\n",
       "      <td>0.0</td>\n",
       "      <td>12.0</td>\n",
       "      <td>13.0</td>\n",
       "      <td>5.0</td>\n",
       "      <td>0.0</td>\n",
       "      <td>0.0</td>\n",
       "      <td>0.0</td>\n",
       "      <td>0.0</td>\n",
       "      <td>...</td>\n",
       "      <td>0.0</td>\n",
       "      <td>0.0</td>\n",
       "      <td>0.0</td>\n",
       "      <td>0.0</td>\n",
       "      <td>11.0</td>\n",
       "      <td>16.0</td>\n",
       "      <td>10.0</td>\n",
       "      <td>0.0</td>\n",
       "      <td>0.0</td>\n",
       "      <td>1</td>\n",
       "    </tr>\n",
       "    <tr>\n",
       "      <th>2</th>\n",
       "      <td>0.0</td>\n",
       "      <td>0.0</td>\n",
       "      <td>0.0</td>\n",
       "      <td>4.0</td>\n",
       "      <td>15.0</td>\n",
       "      <td>12.0</td>\n",
       "      <td>0.0</td>\n",
       "      <td>0.0</td>\n",
       "      <td>0.0</td>\n",
       "      <td>0.0</td>\n",
       "      <td>...</td>\n",
       "      <td>0.0</td>\n",
       "      <td>0.0</td>\n",
       "      <td>0.0</td>\n",
       "      <td>0.0</td>\n",
       "      <td>3.0</td>\n",
       "      <td>11.0</td>\n",
       "      <td>16.0</td>\n",
       "      <td>9.0</td>\n",
       "      <td>0.0</td>\n",
       "      <td>2</td>\n",
       "    </tr>\n",
       "    <tr>\n",
       "      <th>3</th>\n",
       "      <td>0.0</td>\n",
       "      <td>0.0</td>\n",
       "      <td>7.0</td>\n",
       "      <td>15.0</td>\n",
       "      <td>13.0</td>\n",
       "      <td>1.0</td>\n",
       "      <td>0.0</td>\n",
       "      <td>0.0</td>\n",
       "      <td>0.0</td>\n",
       "      <td>8.0</td>\n",
       "      <td>...</td>\n",
       "      <td>0.0</td>\n",
       "      <td>0.0</td>\n",
       "      <td>0.0</td>\n",
       "      <td>7.0</td>\n",
       "      <td>13.0</td>\n",
       "      <td>13.0</td>\n",
       "      <td>9.0</td>\n",
       "      <td>0.0</td>\n",
       "      <td>0.0</td>\n",
       "      <td>3</td>\n",
       "    </tr>\n",
       "    <tr>\n",
       "      <th>4</th>\n",
       "      <td>0.0</td>\n",
       "      <td>0.0</td>\n",
       "      <td>0.0</td>\n",
       "      <td>1.0</td>\n",
       "      <td>11.0</td>\n",
       "      <td>0.0</td>\n",
       "      <td>0.0</td>\n",
       "      <td>0.0</td>\n",
       "      <td>0.0</td>\n",
       "      <td>0.0</td>\n",
       "      <td>...</td>\n",
       "      <td>0.0</td>\n",
       "      <td>0.0</td>\n",
       "      <td>0.0</td>\n",
       "      <td>0.0</td>\n",
       "      <td>2.0</td>\n",
       "      <td>16.0</td>\n",
       "      <td>4.0</td>\n",
       "      <td>0.0</td>\n",
       "      <td>0.0</td>\n",
       "      <td>4</td>\n",
       "    </tr>\n",
       "  </tbody>\n",
       "</table>\n",
       "<p>5 rows × 65 columns</p>\n",
       "</div>"
      ],
      "text/plain": [
       "   pixel_0_0  pixel_0_1  pixel_0_2  pixel_0_3  pixel_0_4  pixel_0_5  \\\n",
       "0        0.0        0.0        5.0       13.0        9.0        1.0   \n",
       "1        0.0        0.0        0.0       12.0       13.0        5.0   \n",
       "2        0.0        0.0        0.0        4.0       15.0       12.0   \n",
       "3        0.0        0.0        7.0       15.0       13.0        1.0   \n",
       "4        0.0        0.0        0.0        1.0       11.0        0.0   \n",
       "\n",
       "   pixel_0_6  pixel_0_7  pixel_1_0  pixel_1_1  ...  pixel_6_7  pixel_7_0  \\\n",
       "0        0.0        0.0        0.0        0.0  ...        0.0        0.0   \n",
       "1        0.0        0.0        0.0        0.0  ...        0.0        0.0   \n",
       "2        0.0        0.0        0.0        0.0  ...        0.0        0.0   \n",
       "3        0.0        0.0        0.0        8.0  ...        0.0        0.0   \n",
       "4        0.0        0.0        0.0        0.0  ...        0.0        0.0   \n",
       "\n",
       "   pixel_7_1  pixel_7_2  pixel_7_3  pixel_7_4  pixel_7_5  pixel_7_6  \\\n",
       "0        0.0        6.0       13.0       10.0        0.0        0.0   \n",
       "1        0.0        0.0       11.0       16.0       10.0        0.0   \n",
       "2        0.0        0.0        3.0       11.0       16.0        9.0   \n",
       "3        0.0        7.0       13.0       13.0        9.0        0.0   \n",
       "4        0.0        0.0        2.0       16.0        4.0        0.0   \n",
       "\n",
       "   pixel_7_7  target  \n",
       "0        0.0       0  \n",
       "1        0.0       1  \n",
       "2        0.0       2  \n",
       "3        0.0       3  \n",
       "4        0.0       4  \n",
       "\n",
       "[5 rows x 65 columns]"
      ]
     },
     "execution_count": 179,
     "metadata": {},
     "output_type": "execute_result"
    }
   ],
   "source": [
    "X, y = digits.data, digits.target\n",
    "df = pd.DataFrame(digits.data, columns=digits.feature_names)\n",
    "df['target'] = digits.target\n",
    "df.head()"
   ]
  },
  {
   "cell_type": "code",
   "execution_count": 180,
   "id": "8d3e0606-b2db-4dc5-9258-754c0c7f143f",
   "metadata": {},
   "outputs": [],
   "source": [
    "from sklearn.preprocessing import MinMaxScaler\n",
    "# Initialize Normalizer with norm='l2'\n",
    "from sklearn.preprocessing import Normalizer"
   ]
  },
  {
   "cell_type": "code",
   "execution_count": 189,
   "id": "5ac240d0-9082-4afc-bacf-927d9af6e4ee",
   "metadata": {},
   "outputs": [],
   "source": [
    "from sklearn.preprocessing import MinMaxScaler, Normalizer\n",
    "from sklearn.model_selection import train_test_split\n",
    "from sklearn.neighbors import KNeighborsClassifier\n",
    "from sklearn.datasets import load_digits\n",
    "from sklearn.metrics import accuracy_score\n",
    "\n",
    "# Load dataset\n",
    "digits = load_digits()\n",
    "X, y = digits.data, digits.target\n",
    "\n",
    "# Step 3: Split the dataset\n",
    "X_train, X_test, y_train, y_test = train_test_split(X, y, test_size=0.3, random_state=42)"
   ]
  },
  {
   "cell_type": "code",
   "execution_count": 190,
   "id": "8f73f36c-c100-412a-99e1-8550c9782e5d",
   "metadata": {},
   "outputs": [
    {
     "name": "stdout",
     "output_type": "stream",
     "text": [
      "Accuracy: 0.987037037037037\n"
     ]
    }
   ],
   "source": [
    "knn = KNeighborsClassifier(n_neighbors=4)\n",
    "knn.fit(X_train, y_train)\n",
    "\n",
    "# Evaluate\n",
    "y_pred = knn.predict(X_test)\n",
    "print(\"Accuracy:\", accuracy_score(y_test, y_pred))"
   ]
  },
  {
   "cell_type": "code",
   "execution_count": 191,
   "id": "ea862608-9a8a-4778-8a81-c92acc9882ca",
   "metadata": {},
   "outputs": [],
   "source": [
    "#hyperparameter tuning\n",
    "#we will try different values of k and choose the best one"
   ]
  },
  {
   "cell_type": "code",
   "execution_count": 202,
   "id": "d887dcaa-7676-498a-bb96-0f04301b5fd1",
   "metadata": {},
   "outputs": [
    {
     "name": "stdout",
     "output_type": "stream",
     "text": [
      "   k  Accuracy\n",
      "0  2  0.983333\n",
      "1  3  0.988889\n",
      "2  4  0.987037\n",
      "3  5  0.992593\n",
      "4  6  0.994444\n",
      "5  7  0.990741\n"
     ]
    }
   ],
   "source": [
    "results = []\n",
    "k_values = range(2, 8) \n",
    "\n",
    "for k in k_values:\n",
    "    knn = KNeighborsClassifier(n_neighbors=k) \n",
    "    knn.fit(X_train, y_train) \n",
    "    y_pred = knn.predict(X_test) \n",
    "    accuracy = accuracy_score(y_test, y_pred)  \n",
    "    results.append({\"k\": k, \"Accuracy\": accuracy})  \n",
    "\n",
    "\n",
    "results_table = pd.DataFrame(results)\n",
    "\n",
    "print(results_table)"
   ]
  },
  {
   "cell_type": "code",
   "execution_count": 203,
   "id": "56a1233c-8e4b-46b5-8c56-c0ecba10661d",
   "metadata": {},
   "outputs": [],
   "source": [
    "#using scaling\n",
    "from sklearn.preprocessing import MinMaxScaler\n",
    "\n",
    "# Initialize MinMaxScaler\n",
    "scaler = MinMaxScaler()\n",
    "\n",
    "# Fit and transform the data\n",
    "X_scaled = scaler.fit_transform(X)"
   ]
  },
  {
   "cell_type": "code",
   "execution_count": 204,
   "id": "009dfae1-f80e-483e-998f-ad582ee253e7",
   "metadata": {},
   "outputs": [],
   "source": [
    "# Step 3: Split the dataset\n",
    "X_train, X_test, y_train, y_test = train_test_split(X_scaled, y, test_size=0.3, random_state=42)"
   ]
  },
  {
   "cell_type": "code",
   "execution_count": 206,
   "id": "6d727685-17df-41de-b4da-e1d197c2c07c",
   "metadata": {},
   "outputs": [
    {
     "name": "stdout",
     "output_type": "stream",
     "text": [
      "Accuracy: 0.9925925925925926\n"
     ]
    }
   ],
   "source": [
    "knn = KNeighborsClassifier(n_neighbors=5)\n",
    "knn.fit(X_train, y_train)\n",
    "\n",
    "# Evaluate\n",
    "y_pred = knn.predict(X_test)\n",
    "print(\"Accuracy:\", accuracy_score(y_test, y_pred))"
   ]
  },
  {
   "cell_type": "code",
   "execution_count": 208,
   "id": "1a37af78-5bb9-412f-8e91-f161a99f0d0d",
   "metadata": {},
   "outputs": [
    {
     "name": "stdout",
     "output_type": "stream",
     "text": [
      "\n",
      "Classification Report:\n",
      "              precision    recall  f1-score     support\n",
      "0              1.000000  1.000000  1.000000   53.000000\n",
      "1              1.000000  1.000000  1.000000   50.000000\n",
      "2              1.000000  1.000000  1.000000   47.000000\n",
      "3              0.981818  1.000000  0.990826   54.000000\n",
      "4              0.983607  1.000000  0.991736   60.000000\n",
      "5              0.984848  0.984848  0.984848   66.000000\n",
      "6              1.000000  1.000000  1.000000   53.000000\n",
      "7              1.000000  1.000000  1.000000   55.000000\n",
      "8              1.000000  1.000000  1.000000   43.000000\n",
      "9              0.982456  0.949153  0.965517   59.000000\n",
      "accuracy       0.992593  0.992593  0.992593    0.992593\n",
      "macro avg      0.993273  0.993400  0.993293  540.000000\n",
      "weighted avg   0.992592  0.992593  0.992545  540.000000\n"
     ]
    }
   ],
   "source": [
    "# Classification Report\n",
    "from sklearn.metrics import classification_report\n",
    "report = classification_report(y_test, y_pred, output_dict=True)\n",
    "\n",
    "# Convert to DataFrame\n",
    "df_report = pd.DataFrame(report).transpose()\n",
    "\n",
    "# Display the report as a table\n",
    "print(\"\\nClassification Report:\")\n",
    "print(df_report)"
   ]
  },
  {
   "cell_type": "code",
   "execution_count": 209,
   "id": "58ef5f33-2582-431d-9cfa-290802f6468d",
   "metadata": {},
   "outputs": [],
   "source": [
    "#using normalization L1\n",
    "from sklearn.preprocessing import Normalizer\n",
    "\n",
    "# Initialize Normalizer with norm='l1'\n",
    "l1_normalizer = Normalizer(norm='l1')\n",
    "\n",
    "# Transform the data\n",
    "X_l1_normalized = l1_normalizer.fit_transform(X)\n"
   ]
  },
  {
   "cell_type": "code",
   "execution_count": 212,
   "id": "528a06b7-ab85-4a9b-93ea-cfb840c2b64c",
   "metadata": {},
   "outputs": [
    {
     "name": "stdout",
     "output_type": "stream",
     "text": [
      "Accuracy: 0.9833333333333333\n"
     ]
    }
   ],
   "source": [
    "# Step 3: Split the dataset\n",
    "X_train, X_test, y_train, y_test = train_test_split(X_l1_normalized, y, test_size=0.3, random_state=42)\n",
    "knn = KNeighborsClassifier(n_neighbors=4)\n",
    "knn.fit(X_train, y_train)\n",
    "\n",
    "# Evaluate\n",
    "y_pred = knn.predict(X_test)\n",
    "print(\"Accuracy:\", accuracy_score(y_test, y_pred))"
   ]
  },
  {
   "cell_type": "code",
   "execution_count": 213,
   "id": "8b262100-cde4-4d31-a990-6c0ca0ddc64d",
   "metadata": {},
   "outputs": [
    {
     "name": "stdout",
     "output_type": "stream",
     "text": [
      "\n",
      "Classification Report:\n",
      "              precision    recall  f1-score     support\n",
      "0              1.000000  1.000000  1.000000   53.000000\n",
      "1              0.909091  1.000000  0.952381   50.000000\n",
      "2              1.000000  1.000000  1.000000   47.000000\n",
      "3              0.981818  1.000000  0.990826   54.000000\n",
      "4              1.000000  0.966667  0.983051   60.000000\n",
      "5              0.985075  1.000000  0.992481   66.000000\n",
      "6              1.000000  1.000000  1.000000   53.000000\n",
      "7              1.000000  0.981818  0.990826   55.000000\n",
      "8              0.976190  0.953488  0.964706   43.000000\n",
      "9              0.982143  0.932203  0.956522   59.000000\n",
      "accuracy       0.983333  0.983333  0.983333    0.983333\n",
      "macro avg      0.983432  0.983418  0.983079  540.000000\n",
      "weighted avg   0.984093  0.983333  0.983376  540.000000\n"
     ]
    }
   ],
   "source": [
    "from sklearn.metrics import classification_report\n",
    "report = classification_report(y_test, y_pred, output_dict=True)\n",
    "\n",
    "# Convert to DataFrame\n",
    "df_report = pd.DataFrame(report).transpose()\n",
    "\n",
    "# Display the report as a table\n",
    "print(\"\\nClassification Report:\")\n",
    "print(df_report)"
   ]
  },
  {
   "cell_type": "code",
   "execution_count": 215,
   "id": "c3b07807-3d6f-439b-b451-64ebead7e2d2",
   "metadata": {},
   "outputs": [],
   "source": [
    "#using normalization L2\n",
    "from sklearn.preprocessing import Normalizer\n",
    "\n",
    "# Initialize Normalizer with norm='l2'\n",
    "l1_normalizer = Normalizer(norm='l2')\n",
    "\n",
    "# Transform the data\n",
    "X_l1_normalized = l1_normalizer.fit_transform(X)\n"
   ]
  },
  {
   "cell_type": "code",
   "execution_count": 216,
   "id": "af41c87c-e210-4c85-aadb-aa8c4d2edfbc",
   "metadata": {},
   "outputs": [
    {
     "name": "stdout",
     "output_type": "stream",
     "text": [
      "Accuracy: 0.9814814814814815\n"
     ]
    }
   ],
   "source": [
    "# Step 3: Split the dataset\n",
    "X_train, X_test, y_train, y_test = train_test_split(X_l2_normalized, y, test_size=0.3, random_state=42)\n",
    "knn = KNeighborsClassifier(n_neighbors=4)\n",
    "knn.fit(X_train, y_train)\n",
    "\n",
    "# Evaluate\n",
    "y_pred = knn.predict(X_test)\n",
    "print(\"Accuracy:\", accuracy_score(y_test, y_pred))"
   ]
  },
  {
   "cell_type": "code",
   "execution_count": 217,
   "id": "cbba4917-d626-40a2-99e1-0370bc3fec26",
   "metadata": {},
   "outputs": [
    {
     "name": "stdout",
     "output_type": "stream",
     "text": [
      "\n",
      "Classification Report:\n",
      "              precision    recall  f1-score     support\n",
      "0              1.000000  1.000000  1.000000   53.000000\n",
      "1              0.909091  1.000000  0.952381   50.000000\n",
      "2              1.000000  1.000000  1.000000   47.000000\n",
      "3              0.981818  1.000000  0.990826   54.000000\n",
      "4              0.982759  0.950000  0.966102   60.000000\n",
      "5              0.985075  1.000000  0.992481   66.000000\n",
      "6              1.000000  1.000000  1.000000   53.000000\n",
      "7              1.000000  0.981818  0.990826   55.000000\n",
      "8              0.976190  0.953488  0.964706   43.000000\n",
      "9              0.982143  0.932203  0.956522   59.000000\n",
      "accuracy       0.981481  0.981481  0.981481    0.981481\n",
      "macro avg      0.981708  0.981751  0.981384  540.000000\n",
      "weighted avg   0.982177  0.981481  0.981493  540.000000\n"
     ]
    }
   ],
   "source": [
    "from sklearn.metrics import classification_report\n",
    "report = classification_report(y_test, y_pred, output_dict=True)\n",
    "\n",
    "# Convert to DataFrame\n",
    "df_report = pd.DataFrame(report).transpose()\n",
    "\n",
    "# Display the report as a table\n",
    "print(\"\\nClassification Report:\")\n",
    "print(df_report)"
   ]
  },
  {
   "cell_type": "code",
   "execution_count": 1,
   "id": "c70a34a6-296e-48f1-ae86-f3cf5052022f",
   "metadata": {},
   "outputs": [
    {
     "data": {
      "image/png": "[encoded data removed]",
      "text/plain": [
       "<Figure size 800x500 with 1 Axes>"
      ]
     },
     "metadata": {},
     "output_type": "display_data"
    }
   ],
   "source": [
    "import matplotlib.pyplot as plt\n",
    "import pandas as pd\n",
    "\n",
    "# Data (from your provided results)\n",
    "data = {\"k\": [2, 3, 4, 5, 6, 7], \n",
    "        \"Accuracy\": [0.983333, 0.988889, 0.987037, 0.992593, 0.994444, 0.990741]}\n",
    "\n",
    "# Convert data to DataFrame\n",
    "results_table = pd.DataFrame(data)\n",
    "\n",
    "# Plotting\n",
    "plt.figure(figsize=(8, 5))\n",
    "plt.plot(results_table[\"k\"], results_table[\"Accuracy\"], marker='o', linestyle='-', color='b', label=\"Accuracy\")\n",
    "\n",
    "# Adding titles and labels\n",
    "plt.title(\"K-Value vs. Accuracy for KNN\", fontsize=14)\n",
    "plt.xlabel(\"Number of Neighbors (k)\", fontsize=12)\n",
    "plt.ylabel(\"Accuracy\", fontsize=12)\n",
    "plt.grid(True)\n",
    "plt.legend()\n",
    "plt.xticks(results_table[\"k\"])  # Ensures all k values are shown on the x-axis\n",
    "\n",
    "# Show the plot\n",
    "plt.show()\n"
   ]
  },
  {
   "cell_type": "code",
   "execution_count": null,
   "id": "6f019a75-346b-4413-a5e5-2636b4ba024a",
   "metadata": {},
   "outputs": [],
   "source": []
  }
 ],
 "metadata": {
  "kernelspec": {
   "display_name": "Python 3 (ipykernel)",
   "language": "python",
   "name": "python3"
  },
  "language_info": {
   "codemirror_mode": {
    "name": "ipython",
    "version": 3
   },
   "file_extension": ".py",
   "mimetype": "text/x-python",
   "name": "python",
   "nbconvert_exporter": "python",
   "pygments_lexer": "ipython3",
   "version": "3.12.5"
  }
 },
 "nbformat": 4,
 "nbformat_minor": 5
}
